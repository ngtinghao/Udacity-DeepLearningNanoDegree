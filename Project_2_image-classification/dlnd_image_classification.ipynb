{
 "cells": [
  {
   "cell_type": "markdown",
   "metadata": {
    "collapsed": true
   },
   "source": [
    "# Image Classification\n",
    "In this project, you'll classify images from the [CIFAR-10 dataset](https://www.cs.toronto.edu/~kriz/cifar.html).  The dataset consists of airplanes, dogs, cats, and other objects. You'll preprocess the images, then train a convolutional neural network on all the samples. The images need to be normalized and the labels need to be one-hot encoded.  You'll get to apply what you learned and build a convolutional, max pooling, dropout, and fully connected layers.  At the end, you'll get to see your neural network's predictions on the sample images.\n",
    "## Get the Data\n",
    "Run the following cell to download the [CIFAR-10 dataset for python](https://www.cs.toronto.edu/~kriz/cifar-10-python.tar.gz)."
   ]
  },
  {
   "cell_type": "code",
   "execution_count": 2,
   "metadata": {},
   "outputs": [
    {
     "name": "stdout",
     "output_type": "stream",
     "text": [
      "All files found!\n"
     ]
    }
   ],
   "source": [
    "\"\"\"\n",
    "DON'T MODIFY ANYTHING IN THIS CELL THAT IS BELOW THIS LINE\n",
    "\"\"\"\n",
    "from urllib.request import urlretrieve\n",
    "from os.path import isfile, isdir\n",
    "from tqdm import tqdm\n",
    "import problem_unittests as tests\n",
    "import tarfile\n",
    "\n",
    "cifar10_dataset_folder_path = 'cifar-10-batches-py'\n",
    "\n",
    "# Use Floyd's cifar-10 dataset if present\n",
    "floyd_cifar10_location = '/input/cifar-10/python.tar.gz'\n",
    "if isfile(floyd_cifar10_location):\n",
    "    tar_gz_path = floyd_cifar10_location\n",
    "else:\n",
    "    tar_gz_path = 'cifar-10-python.tar.gz'\n",
    "\n",
    "class DLProgress(tqdm):\n",
    "    last_block = 0\n",
    "\n",
    "    def hook(self, block_num=1, block_size=1, total_size=None):\n",
    "        self.total = total_size\n",
    "        self.update((block_num - self.last_block) * block_size)\n",
    "        self.last_block = block_num\n",
    "\n",
    "if not isfile(tar_gz_path):\n",
    "    with DLProgress(unit='B', unit_scale=True, miniters=1, desc='CIFAR-10 Dataset') as pbar:\n",
    "        urlretrieve(\n",
    "            'https://www.cs.toronto.edu/~kriz/cifar-10-python.tar.gz',\n",
    "            tar_gz_path,\n",
    "            pbar.hook)\n",
    "\n",
    "if not isdir(cifar10_dataset_folder_path):\n",
    "    with tarfile.open(tar_gz_path) as tar:\n",
    "        tar.extractall()\n",
    "        tar.close()\n",
    "\n",
    "\n",
    "tests.test_folder_path(cifar10_dataset_folder_path)"
   ]
  },
  {
   "cell_type": "markdown",
   "metadata": {},
   "source": [
    "## Explore the Data\n",
    "The dataset is broken into batches to prevent your machine from running out of memory.  The CIFAR-10 dataset consists of 5 batches, named `data_batch_1`, `data_batch_2`, etc.. Each batch contains the labels and images that are one of the following:\n",
    "* airplane\n",
    "* automobile\n",
    "* bird\n",
    "* cat\n",
    "* deer\n",
    "* dog\n",
    "* frog\n",
    "* horse\n",
    "* ship\n",
    "* truck\n",
    "\n",
    "Understanding a dataset is part of making predictions on the data.  Play around with the code cell below by changing the `batch_id` and `sample_id`. The `batch_id` is the id for a batch (1-5). The `sample_id` is the id for a image and label pair in the batch.\n",
    "\n",
    "Ask yourself \"What are all possible labels?\", \"What is the range of values for the image data?\", \"Are the labels in order or random?\".  Answers to questions like these will help you preprocess the data and end up with better predictions."
   ]
  },
  {
   "cell_type": "code",
   "execution_count": 3,
   "metadata": {},
   "outputs": [
    {
     "name": "stdout",
     "output_type": "stream",
     "text": [
      "\n",
      "Stats of batch 1:\n",
      "Samples: 10000\n",
      "Label Counts: {0: 1005, 1: 974, 2: 1032, 3: 1016, 4: 999, 5: 937, 6: 1030, 7: 1001, 8: 1025, 9: 981}\n",
      "First 20 Labels: [6, 9, 9, 4, 1, 1, 2, 7, 8, 3, 4, 7, 7, 2, 9, 9, 9, 3, 2, 6]\n",
      "\n",
      "Example of Image 5:\n",
      "Image - Min Value: 0 Max Value: 252\n",
      "Image - Shape: (32, 32, 3)\n",
      "Label - Label Id: 1 Name: automobile\n"
     ]
    },
    {
     "data": {
      "image/png": "[encoded data removed]",
      "text/plain": [
       "<matplotlib.figure.Figure at 0x7fdc95032048>"
      ]
     },
     "metadata": {
      "image/png": {
       "height": 250,
       "width": 253
      }
     },
     "output_type": "display_data"
    }
   ],
   "source": [
    "%matplotlib inline\n",
    "%config InlineBackend.figure_format = 'retina'\n",
    "\n",
    "import helper\n",
    "import numpy as np\n",
    "\n",
    "# Explore the dataset\n",
    "batch_id = 1\n",
    "sample_id = 5\n",
    "helper.display_stats(cifar10_dataset_folder_path, batch_id, sample_id)"
   ]
  },
  {
   "cell_type": "markdown",
   "metadata": {},
   "source": [
    "## Implement Preprocess Functions\n",
    "### Normalize\n",
    "In the cell below, implement the `normalize` function to take in image data, `x`, and return it as a normalized Numpy array. The values should be in the range of 0 to 1, inclusive.  The return object should be the same shape as `x`."
   ]
  },
  {
   "cell_type": "code",
   "execution_count": 4,
   "metadata": {},
   "outputs": [
    {
     "name": "stdout",
     "output_type": "stream",
     "text": [
      "Tests Passed\n"
     ]
    }
   ],
   "source": [
    "def normalize(x):\n",
    "    \"\"\"\n",
    "    Normalize a list of sample image data in the range of 0 to 1\n",
    "    : x: List of image data.  The image shape is (32, 32, 3)\n",
    "    : return: Numpy array of normalize data\n",
    "    \"\"\"\n",
    "    # TODO: Implement Function\n",
    "    _min = np.min(x)\n",
    "    _max = np.max(x)\n",
    "    return (x - _min) / (_max - _min)\n",
    "\n",
    "\n",
    "\"\"\"\n",
    "DON'T MODIFY ANYTHING IN THIS CELL THAT IS BELOW THIS LINE\n",
    "\"\"\"\n",
    "tests.test_normalize(normalize)"
   ]
  },
  {
   "cell_type": "markdown",
   "metadata": {},
   "source": [
    "### One-hot encode\n",
    "Just like the previous code cell, you'll be implementing a function for preprocessing.  This time, you'll implement the `one_hot_encode` function. The input, `x`, are a list of labels.  Implement the function to return the list of labels as One-Hot encoded Numpy array.  The possible values for labels are 0 to 9. The one-hot encoding function should return the same encoding for each value between each call to `one_hot_encode`.  Make sure to save the map of encodings outside the function.\n",
    "\n",
    "Hint: Don't reinvent the wheel."
   ]
  },
  {
   "cell_type": "code",
   "execution_count": 5,
   "metadata": {},
   "outputs": [
    {
     "name": "stdout",
     "output_type": "stream",
     "text": [
      "Tests Passed\n"
     ]
    }
   ],
   "source": [
    "def one_hot_encode(x):\n",
    "    \"\"\"\n",
    "    One hot encode a list of sample labels. Return a one-hot encoded vector for each label.\n",
    "    : x: List of sample Labels\n",
    "    : return: Numpy array of one-hot encoded labels\n",
    "    \"\"\"\n",
    "    # TODO: Implement Function\n",
    "    return np.eye(10)[x]\n",
    "\n",
    "\n",
    "\"\"\"\n",
    "DON'T MODIFY ANYTHING IN THIS CELL THAT IS BELOW THIS LINE\n",
    "\"\"\"\n",
    "tests.test_one_hot_encode(one_hot_encode)"
   ]
  },
  {
   "cell_type": "markdown",
   "metadata": {},
   "source": [
    "### Randomize Data\n",
    "As you saw from exploring the data above, the order of the samples are randomized.  It doesn't hurt to randomize it again, but you don't need to for this dataset."
   ]
  },
  {
   "cell_type": "markdown",
   "metadata": {},
   "source": [
    "## Preprocess all the data and save it\n",
    "Running the code cell below will preprocess all the CIFAR-10 data and save it to file. The code below also uses 10% of the training data for validation."
   ]
  },
  {
   "cell_type": "code",
   "execution_count": 6,
   "metadata": {
    "collapsed": true
   },
   "outputs": [],
   "source": [
    "\"\"\"\n",
    "DON'T MODIFY ANYTHING IN THIS CELL\n",
    "\"\"\"\n",
    "# Preprocess Training, Validation, and Testing Data\n",
    "helper.preprocess_and_save_data(cifar10_dataset_folder_path, normalize, one_hot_encode)"
   ]
  },
  {
   "cell_type": "markdown",
   "metadata": {},
   "source": [
    "# Check Point\n",
    "This is your first checkpoint.  If you ever decide to come back to this notebook or have to restart the notebook, you can start from here.  The preprocessed data has been saved to disk."
   ]
  },
  {
   "cell_type": "code",
   "execution_count": 7,
   "metadata": {
    "collapsed": true
   },
   "outputs": [],
   "source": [
    "\"\"\"\n",
    "DON'T MODIFY ANYTHING IN THIS CELL\n",
    "\"\"\"\n",
    "import pickle\n",
    "import problem_unittests as tests\n",
    "import helper\n",
    "\n",
    "# Load the Preprocessed Validation data\n",
    "valid_features, valid_labels = pickle.load(open('preprocess_validation.p', mode='rb'))"
   ]
  },
  {
   "cell_type": "markdown",
   "metadata": {},
   "source": [
    "## Build the network\n",
    "For the neural network, you'll build each layer into a function.  Most of the code you've seen has been outside of functions. To test your code more thoroughly, we require that you put each layer in a function.  This allows us to give you better feedback and test for simple mistakes using our unittests before you submit your project.\n",
    "\n",
    ">**Note:** If you're finding it hard to dedicate enough time for this course each week, we've provided a small shortcut to this part of the project. In the next couple of problems, you'll have the option to use classes from the [TensorFlow Layers](https://www.tensorflow.org/api_docs/python/tf/layers) or [TensorFlow Layers (contrib)](https://www.tensorflow.org/api_guides/python/contrib.layers) packages to build each layer, except the layers you build in the \"Convolutional and Max Pooling Layer\" section.  TF Layers is similar to Keras's and TFLearn's abstraction to layers, so it's easy to pickup.\n",
    "\n",
    ">However, if you would like to get the most out of this course, try to solve all the problems _without_ using anything from the TF Layers packages. You **can** still use classes from other packages that happen to have the same name as ones you find in TF Layers! For example, instead of using the TF Layers version of the `conv2d` class, [tf.layers.conv2d](https://www.tensorflow.org/api_docs/python/tf/layers/conv2d), you would want to use the TF Neural Network version of `conv2d`, [tf.nn.conv2d](https://www.tensorflow.org/api_docs/python/tf/nn/conv2d). \n",
    "\n",
    "Let's begin!\n",
    "\n",
    "### Input\n",
    "The neural network needs to read the image data, one-hot encoded labels, and dropout keep probability. Implement the following functions\n",
    "* Implement `neural_net_image_input`\n",
    " * Return a [TF Placeholder](https://www.tensorflow.org/api_docs/python/tf/placeholder)\n",
    " * Set the shape using `image_shape` with batch size set to `None`.\n",
    " * Name the TensorFlow placeholder \"x\" using the TensorFlow `name` parameter in the [TF Placeholder](https://www.tensorflow.org/api_docs/python/tf/placeholder).\n",
    "* Implement `neural_net_label_input`\n",
    " * Return a [TF Placeholder](https://www.tensorflow.org/api_docs/python/tf/placeholder)\n",
    " * Set the shape using `n_classes` with batch size set to `None`.\n",
    " * Name the TensorFlow placeholder \"y\" using the TensorFlow `name` parameter in the [TF Placeholder](https://www.tensorflow.org/api_docs/python/tf/placeholder).\n",
    "* Implement `neural_net_keep_prob_input`\n",
    " * Return a [TF Placeholder](https://www.tensorflow.org/api_docs/python/tf/placeholder) for dropout keep probability.\n",
    " * Name the TensorFlow placeholder \"keep_prob\" using the TensorFlow `name` parameter in the [TF Placeholder](https://www.tensorflow.org/api_docs/python/tf/placeholder).\n",
    "\n",
    "These names will be used at the end of the project to load your saved model.\n",
    "\n",
    "Note: `None` for shapes in TensorFlow allow for a dynamic size."
   ]
  },
  {
   "cell_type": "code",
   "execution_count": 8,
   "metadata": {},
   "outputs": [
    {
     "name": "stdout",
     "output_type": "stream",
     "text": [
      "Image Input Tests Passed.\n",
      "Label Input Tests Passed.\n",
      "Keep Prob Tests Passed.\n"
     ]
    }
   ],
   "source": [
    "import tensorflow as tf\n",
    "\n",
    "def neural_net_image_input(image_shape):\n",
    "    \"\"\"\n",
    "    Return a Tensor for a bach of image input\n",
    "    : image_shape: Shape of the images\n",
    "    : return: Tensor for image input.\n",
    "    \"\"\"\n",
    "    # TODO: Implement Function\n",
    "    \n",
    "    return tf.placeholder(tf.float32, shape=[None, *image_shape], name = 'x')\n",
    "\n",
    "\n",
    "\n",
    "\n",
    "def neural_net_label_input(n_classes):\n",
    "    \"\"\"\n",
    "    Return a Tensor for a batch of label input\n",
    "    : n_classes: Number of classes\n",
    "    : return: Tensor for label input.\n",
    "    \"\"\"\n",
    "    # TODO: Implement Function\n",
    "    return tf.placeholder(tf.float32, shape=[None, n_classes], name='y')\n",
    "\n",
    "\n",
    "def neural_net_keep_prob_input():\n",
    "    \"\"\"\n",
    "    Return a Tensor for keep probability\n",
    "    : return: Tensor for keep probability.\n",
    "    \"\"\"\n",
    "    # TODO: Implement Function\n",
    "    return tf.placeholder(tf.float32, name='keep_prob')\n",
    "\n",
    "\n",
    "\"\"\"\n",
    "DON'T MODIFY ANYTHING IN THIS CELL THAT IS BELOW THIS LINE\n",
    "\"\"\"\n",
    "tf.reset_default_graph()\n",
    "tests.test_nn_image_inputs(neural_net_image_input)\n",
    "tests.test_nn_label_inputs(neural_net_label_input)\n",
    "tests.test_nn_keep_prob_inputs(neural_net_keep_prob_input)"
   ]
  },
  {
   "cell_type": "markdown",
   "metadata": {},
   "source": [
    "### Convolution and Max Pooling Layer\n",
    "Convolution layers have a lot of success with images. For this code cell, you should implement the function `conv2d_maxpool` to apply convolution then max pooling:\n",
    "* Create the weight and bias using `conv_ksize`, `conv_num_outputs` and the shape of `x_tensor`.\n",
    "* Apply a convolution to `x_tensor` using weight and `conv_strides`.\n",
    " * We recommend you use same padding, but you're welcome to use any padding.\n",
    "* Add bias\n",
    "* Add a nonlinear activation to the convolution.\n",
    "* Apply Max Pooling using `pool_ksize` and `pool_strides`.\n",
    " * We recommend you use same padding, but you're welcome to use any padding.\n",
    "\n",
    "**Note:** You **can't** use [TensorFlow Layers](https://www.tensorflow.org/api_docs/python/tf/layers) or [TensorFlow Layers (contrib)](https://www.tensorflow.org/api_guides/python/contrib.layers) for **this** layer, but you can still use TensorFlow's [Neural Network](https://www.tensorflow.org/api_docs/python/tf/nn) package. You may still use the shortcut option for all the **other** layers."
   ]
  },
  {
   "cell_type": "code",
   "execution_count": 9,
   "metadata": {},
   "outputs": [
    {
     "name": "stdout",
     "output_type": "stream",
     "text": [
      "Tests Passed\n"
     ]
    }
   ],
   "source": [
    "def conv2d_maxpool(x_tensor, conv_num_outputs, conv_ksize, conv_strides, pool_ksize, pool_strides):\n",
    "    \"\"\"\n",
    "    Apply convolution then max pooling to x_tensor\n",
    "    :param x_tensor: TensorFlow Tensor\n",
    "    :param conv_num_outputs: Number of outputs for the convolutional layer\n",
    "    :param conv_ksize: kernal size 2-D Tuple for the convolutional layer\n",
    "    :param conv_strides: Stride 2-D Tuple for convolution\n",
    "    :param pool_ksize: kernal size 2-D Tuple for pool\n",
    "    :param pool_strides: Stride 2-D Tuple for pool\n",
    "    : return: A tensor that represents convolution and max pooling of x_tensor\n",
    "    \"\"\"\n",
    "    # TODO: Implement Function\n",
    "    input_shape = [*conv_ksize, x_tensor.shape[3].value, conv_num_outputs]\n",
    "    weight = tf.Variable(tf.truncated_normal(input_shape, stddev=np.sqrt(1/np.prod([*conv_ksize, x_tensor.shape[3].value]))))\n",
    "    bias = tf.Variable(tf.zeros([conv_num_outputs]))\n",
    "    x_tensor = tf.nn.conv2d(x_tensor, weight, [1, *conv_strides, 1], padding='SAME')\n",
    "    x_tensor = tf.nn.bias_add(x_tensor, bias)\n",
    "    x_tensor = tf.nn.relu(x_tensor)\n",
    "    x_tensor = tf.nn.max_pool(x_tensor, [1, *pool_ksize, 1] , [1, *pool_strides, 1], padding='SAME')\n",
    "    return x_tensor\n",
    "\n",
    "\n",
    "\"\"\"\n",
    "DON'T MODIFY ANYTHING IN THIS CELL THAT IS BELOW THIS LINE\n",
    "\"\"\"\n",
    "tests.test_con_pool(conv2d_maxpool)"
   ]
  },
  {
   "cell_type": "markdown",
   "metadata": {},
   "source": [
    "### Flatten Layer\n",
    "Implement the `flatten` function to change the dimension of `x_tensor` from a 4-D tensor to a 2-D tensor.  The output should be the shape (*Batch Size*, *Flattened Image Size*). Shortcut option: you can use classes from the [TensorFlow Layers](https://www.tensorflow.org/api_docs/python/tf/layers) or [TensorFlow Layers (contrib)](https://www.tensorflow.org/api_guides/python/contrib.layers) packages for this layer. For more of a challenge, only use other TensorFlow packages."
   ]
  },
  {
   "cell_type": "code",
   "execution_count": 10,
   "metadata": {},
   "outputs": [
    {
     "name": "stdout",
     "output_type": "stream",
     "text": [
      "Tests Passed\n"
     ]
    }
   ],
   "source": [
    "def flatten(x_tensor):\n",
    "    \"\"\"\n",
    "    Flatten x_tensor to (Batch Size, Flattened Image Size)\n",
    "    : x_tensor: A tensor of size (Batch Size, ...), where ... are the image dimensions.\n",
    "    : return: A tensor of size (Batch Size, Flattened Image Size).\n",
    "    \"\"\"\n",
    "    # TODO: Implement Function\n",
    "    shape = x_tensor.get_shape().as_list()\n",
    "    dim = np.prod(shape[1:])\n",
    "    x_tensor_2 = tf.reshape(x_tensor, [-1, dim])\n",
    "    return x_tensor_2\n",
    "\n",
    "\n",
    "\"\"\"\n",
    "DON'T MODIFY ANYTHING IN THIS CELL THAT IS BELOW THIS LINE\n",
    "\"\"\"\n",
    "tests.test_flatten(flatten)"
   ]
  },
  {
   "cell_type": "markdown",
   "metadata": {},
   "source": [
    "### Fully-Connected Layer\n",
    "Implement the `fully_conn` function to apply a fully connected layer to `x_tensor` with the shape (*Batch Size*, *num_outputs*). Shortcut option: you can use classes from the [TensorFlow Layers](https://www.tensorflow.org/api_docs/python/tf/layers) or [TensorFlow Layers (contrib)](https://www.tensorflow.org/api_guides/python/contrib.layers) packages for this layer. For more of a challenge, only use other TensorFlow packages."
   ]
  },
  {
   "cell_type": "code",
   "execution_count": 11,
   "metadata": {},
   "outputs": [
    {
     "name": "stdout",
     "output_type": "stream",
     "text": [
      "Tests Passed\n"
     ]
    }
   ],
   "source": [
    "def fully_conn(x_tensor, num_outputs):\n",
    "    \"\"\"\n",
    "    Apply a fully connected layer to x_tensor using weight and bias\n",
    "    : x_tensor: A 2-D tensor where the first dimension is batch size.\n",
    "    : num_outputs: The number of output that the new tensor should be.\n",
    "    : return: A 2-D tensor where the second dimension is num_outputs.\n",
    "    \"\"\"\n",
    "    # TODO: Implement Function\n",
    "    input_shape = [x_tensor.shape[1].value, num_outputs]\n",
    "    weights = tf.Variable(tf.truncated_normal(input_shape ,stddev=np.sqrt(1/x_tensor.shape[1].value)))\n",
    "    bias = tf.Variable(tf.zeros([num_outputs]))\n",
    "    x_tensor = tf.add(tf.matmul(x_tensor, weights), bias)\n",
    "    x_tensor = tf.nn.relu(x_tensor)\n",
    "    return x_tensor\n",
    "\n",
    "\n",
    "\"\"\"\n",
    "DON'T MODIFY ANYTHING IN THIS CELL THAT IS BELOW THIS LINE\n",
    "\"\"\"\n",
    "tests.test_fully_conn(fully_conn)"
   ]
  },
  {
   "cell_type": "code",
   "execution_count": 12,
   "metadata": {},
   "outputs": [
    {
     "name": "stdout",
     "output_type": "stream",
     "text": [
      "Tests Passed\n"
     ]
    }
   ],
   "source": [
    "def output(x_tensor, num_outputs):\n",
    "    \"\"\"\n",
    "    Apply a output layer to x_tensor using weight and bias\n",
    "    : x_tensor: A 2-D tensor where the first dimension is batch size.\n",
    "    : num_outputs: The number of output that the new tensor should be.\n",
    "    : return: A 2-D tensor where the second dimension is num_outputs.\n",
    "    \"\"\"\n",
    "    # TODO: Implement Function\n",
    "    input_shape = [x_tensor.shape[1].value, num_outputs]\n",
    "    weights = tf.Variable(tf.truncated_normal(input_shape, stddev=np.sqrt(1/x_tensor.shape[1].value)))\n",
    "    bias = tf.Variable(tf.zeros([num_outputs]))\n",
    "    x_tensor = tf.add(tf.matmul(x_tensor, weights), bias)\n",
    "    return x_tensor\n",
    "\n",
    "\n",
    "\"\"\"\n",
    "DON'T MODIFY ANYTHING IN THIS CELL THAT IS BELOW THIS LINE\n",
    "\"\"\"\n",
    "tests.test_output(output)"
   ]
  },
  {
   "cell_type": "markdown",
   "metadata": {},
   "source": [
    "### Create Convolutional Model\n",
    "Implement the function `conv_net` to create a convolutional neural network model. The function takes in a batch of images, `x`, and outputs logits.  Use the layers you created above to create this model:\n",
    "\n",
    "* Apply 1, 2, or 3 Convolution and Max Pool layers\n",
    "* Apply a Flatten Layer\n",
    "* Apply 1, 2, or 3 Fully Connected Layers\n",
    "* Apply an Output Layer\n",
    "* Return the output\n",
    "* Apply [TensorFlow's Dropout](https://www.tensorflow.org/api_docs/python/tf/nn/dropout) to one or more layers in the model using `keep_prob`. "
   ]
  },
  {
   "cell_type": "code",
   "execution_count": 13,
   "metadata": {},
   "outputs": [
    {
     "name": "stdout",
     "output_type": "stream",
     "text": [
      "Neural Network Built!\n"
     ]
    }
   ],
   "source": [
    "def conv_net(x, keep_prob):\n",
    "    \"\"\"\n",
    "    Create a convolutional neural network model\n",
    "    : x: Placeholder tensor that holds image data.\n",
    "    : keep_prob: Placeholder tensor that hold dropout keep probability.\n",
    "    : return: Tensor that represents logits\n",
    "    \"\"\"\n",
    "    # TODO: Apply 1, 2, or 3 Convolution and Max Pool layers\n",
    "    #    Play around with different number of outputs, kernel size and stride\n",
    "    # Function Definition from Above:\n",
    "    #    conv2d_maxpool(x_tensor, conv_num_outputs, conv_ksize, conv_strides, pool_ksize, pool_strides)\n",
    "    x = conv2d_maxpool(x, 64, (3, 3), (1, 1), (2, 2), (2, 2))\n",
    "    x = conv2d_maxpool(x, 128, (3, 3), (1, 1), (2, 2), (2, 2))\n",
    "    x = conv2d_maxpool(x, 256, (3, 3), (1, 1), (2, 2), (2, 2))\n",
    "\n",
    "\n",
    "\n",
    "\n",
    "    # TODO: Apply a Flatten Layer\n",
    "    # Function Definition from Above:\n",
    "    #   flatten(x_tensor)\n",
    "    x = flatten(x)\n",
    "\n",
    "    # TODO: Apply 1, 2, or 3 Fully Connected Layers\n",
    "    #    Play around with different number of outputs\n",
    "    # Function Definition from Above:\n",
    "    #   fully_conn(x_tensor, num_outputs)\n",
    "    x = fully_conn(x, 512)\n",
    "    x = tf.nn.dropout(x, keep_prob)\n",
    "    x = fully_conn(x, 128)\n",
    "    x = tf.nn.dropout(x, keep_prob)\n",
    "    \n",
    "    # TODO: Apply an Output Layer\n",
    "    #    Set this to the number of classes\n",
    "    # Function Definition from Above:\n",
    "    #   output(x_tensor, num_outputs)\n",
    "    out = output(x, 10)\n",
    "\n",
    "\n",
    "    \n",
    "    # TODO: return output\n",
    "    return out\n",
    "\n",
    "\n",
    "\"\"\"\n",
    "DON'T MODIFY ANYTHING IN THIS CELL THAT IS BELOW THIS LINE\n",
    "\"\"\"\n",
    "\n",
    "##############################\n",
    "## Build the Neural Network ##\n",
    "##############################\n",
    "\n",
    "# Remove previous weights, bias, inputs, etc..\n",
    "tf.reset_default_graph()\n",
    "\n",
    "# Inputs\n",
    "x = neural_net_image_input((32, 32, 3))\n",
    "y = neural_net_label_input(10)\n",
    "keep_prob = neural_net_keep_prob_input()\n",
    "\n",
    "# Model\n",
    "logits = conv_net(x, keep_prob)\n",
    "\n",
    "# Name logits Tensor, so that is can be loaded from disk after training\n",
    "logits = tf.identity(logits, name='logits')\n",
    "\n",
    "# Loss and Optimizer\n",
    "cost = tf.reduce_mean(tf.nn.softmax_cross_entropy_with_logits(logits=logits, labels=y))\n",
    "optimizer = tf.train.AdamOptimizer().minimize(cost)\n",
    "\n",
    "# Accuracy\n",
    "correct_pred = tf.equal(tf.argmax(logits, 1), tf.argmax(y, 1))\n",
    "accuracy = tf.reduce_mean(tf.cast(correct_pred, tf.float32), name='accuracy')\n",
    "\n",
    "tests.test_conv_net(conv_net)"
   ]
  },
  {
   "cell_type": "markdown",
   "metadata": {},
   "source": [
    "## Train the Neural Network\n",
    "### Single Optimization\n",
    "Implement the function `train_neural_network` to do a single optimization.  The optimization should use `optimizer` to optimize in `session` with a `feed_dict` of the following:\n",
    "* `x` for image input\n",
    "* `y` for labels\n",
    "* `keep_prob` for keep probability for dropout\n",
    "\n",
    "This function will be called for each batch, so `tf.global_variables_initializer()` has already been called.\n",
    "\n",
    "Note: Nothing needs to be returned. This function is only optimizing the neural network."
   ]
  },
  {
   "cell_type": "code",
   "execution_count": 14,
   "metadata": {},
   "outputs": [
    {
     "name": "stdout",
     "output_type": "stream",
     "text": [
      "Tests Passed\n"
     ]
    }
   ],
   "source": [
    "def train_neural_network(session, optimizer, keep_probability, feature_batch, label_batch):\n",
    "    \"\"\"\n",
    "    Optimize the session on a batch of images and labels\n",
    "    : session: Current TensorFlow session\n",
    "    : optimizer: TensorFlow optimizer function\n",
    "    : keep_probability: keep probability\n",
    "    : feature_batch: Batch of Numpy image data\n",
    "    : label_batch: Batch of Numpy label data\n",
    "    \"\"\"\n",
    "    # TODO: Implement Function\n",
    "    session.run(optimizer, feed_dict={x:feature_batch,y:label_batch, keep_prob: keep_probability})\n",
    "    pass\n",
    "\n",
    "\n",
    "\"\"\"\n",
    "DON'T MODIFY ANYTHING IN THIS CELL THAT IS BELOW THIS LINE\n",
    "\"\"\"\n",
    "tests.test_train_nn(train_neural_network)"
   ]
  },
  {
   "cell_type": "markdown",
   "metadata": {},
   "source": [
    "### Show Stats\n",
    "Implement the function `print_stats` to print loss and validation accuracy.  Use the global variables `valid_features` and `valid_labels` to calculate validation accuracy.  Use a keep probability of `1.0` to calculate the loss and validation accuracy."
   ]
  },
  {
   "cell_type": "code",
   "execution_count": 15,
   "metadata": {
    "collapsed": true
   },
   "outputs": [],
   "source": [
    "def print_stats(session, feature_batch, label_batch, cost, accuracy):\n",
    "    \"\"\"\n",
    "    Print information about loss and validation accuracy\n",
    "    : session: Current TensorFlow session\n",
    "    : feature_batch: Batch of Numpy image data\n",
    "    : label_batch: Batch of Numpy label data\n",
    "    : cost: TensorFlow cost function\n",
    "    : accuracy: TensorFlow accuracy function\n",
    "    \"\"\"\n",
    "    # TODO: Implement Function\n",
    "    loss = session.run(cost, feed_dict={\n",
    "        x: feature_batch,\n",
    "        y: label_batch,\n",
    "        keep_prob: 1.\n",
    "    })\n",
    "    \n",
    "    valid_accuracy = session.run(accuracy, feed_dict={\n",
    "        x: valid_features,\n",
    "        y: valid_labels,\n",
    "        keep_prob: 1.\n",
    "    })\n",
    "\n",
    "    print('Loss: {:>10.4f} Validation Accuracy: {:.6f}'.format(loss, valid_accuracy))\n",
    "    "
   ]
  },
  {
   "cell_type": "markdown",
   "metadata": {},
   "source": [
    "### Hyperparameters\n",
    "Tune the following parameters:\n",
    "* Set `epochs` to the number of iterations until the network stops learning or start overfitting\n",
    "* Set `batch_size` to the highest number that your machine has memory for.  Most people set them to common sizes of memory:\n",
    " * 64\n",
    " * 128\n",
    " * 256\n",
    " * ...\n",
    "* Set `keep_probability` to the probability of keeping a node using dropout"
   ]
  },
  {
   "cell_type": "code",
   "execution_count": 16,
   "metadata": {
    "collapsed": true
   },
   "outputs": [],
   "source": [
    "# TODO: Tune Parameters\n",
    "epochs = 50\n",
    "batch_size = 256\n",
    "keep_probability = 0.5"
   ]
  },
  {
   "cell_type": "markdown",
   "metadata": {},
   "source": [
    "### Train on a Single CIFAR-10 Batch\n",
    "Instead of training the neural network on all the CIFAR-10 batches of data, let's use a single batch. This should save time while you iterate on the model to get a better accuracy.  Once the final validation accuracy is 50% or greater, run the model on all the data in the next section."
   ]
  },
  {
   "cell_type": "code",
   "execution_count": 17,
   "metadata": {},
   "outputs": [
    {
     "name": "stdout",
     "output_type": "stream",
     "text": [
      "Checking the Training on a Single Batch...\n",
      "Epoch  1, CIFAR-10 Batch 1:  Loss:     2.0984 Validation Accuracy: 0.319600\n",
      "Epoch  2, CIFAR-10 Batch 1:  Loss:     1.8840 Validation Accuracy: 0.389600\n",
      "Epoch  3, CIFAR-10 Batch 1:  Loss:     1.6145 Validation Accuracy: 0.419000\n",
      "Epoch  4, CIFAR-10 Batch 1:  Loss:     1.5584 Validation Accuracy: 0.455600\n",
      "Epoch  5, CIFAR-10 Batch 1:  Loss:     1.2484 Validation Accuracy: 0.500800\n",
      "Epoch  6, CIFAR-10 Batch 1:  Loss:     1.0315 Validation Accuracy: 0.516600\n",
      "Epoch  7, CIFAR-10 Batch 1:  Loss:     0.8327 Validation Accuracy: 0.551000\n",
      "Epoch  8, CIFAR-10 Batch 1:  Loss:     0.7106 Validation Accuracy: 0.553400\n",
      "Epoch  9, CIFAR-10 Batch 1:  Loss:     0.5986 Validation Accuracy: 0.567800\n",
      "Epoch 10, CIFAR-10 Batch 1:  Loss:     0.5384 Validation Accuracy: 0.582200\n",
      "Epoch 11, CIFAR-10 Batch 1:  Loss:     0.4607 Validation Accuracy: 0.586200\n",
      "Epoch 12, CIFAR-10 Batch 1:  Loss:     0.3446 Validation Accuracy: 0.596000\n",
      "Epoch 13, CIFAR-10 Batch 1:  Loss:     0.2502 Validation Accuracy: 0.592200\n",
      "Epoch 14, CIFAR-10 Batch 1:  Loss:     0.2052 Validation Accuracy: 0.624600\n",
      "Epoch 15, CIFAR-10 Batch 1:  Loss:     0.1838 Validation Accuracy: 0.632000\n",
      "Epoch 16, CIFAR-10 Batch 1:  Loss:     0.1407 Validation Accuracy: 0.638000\n",
      "Epoch 17, CIFAR-10 Batch 1:  Loss:     0.1372 Validation Accuracy: 0.626600\n",
      "Epoch 18, CIFAR-10 Batch 1:  Loss:     0.0966 Validation Accuracy: 0.620200\n",
      "Epoch 19, CIFAR-10 Batch 1:  Loss:     0.0981 Validation Accuracy: 0.596200\n",
      "Epoch 20, CIFAR-10 Batch 1:  Loss:     0.0623 Validation Accuracy: 0.593400\n",
      "Epoch 21, CIFAR-10 Batch 1:  Loss:     0.0369 Validation Accuracy: 0.626800\n",
      "Epoch 22, CIFAR-10 Batch 1:  Loss:     0.0274 Validation Accuracy: 0.622800\n",
      "Epoch 23, CIFAR-10 Batch 1:  Loss:     0.0139 Validation Accuracy: 0.639000\n",
      "Epoch 24, CIFAR-10 Batch 1:  Loss:     0.0069 Validation Accuracy: 0.640000\n",
      "Epoch 25, CIFAR-10 Batch 1:  Loss:     0.0054 Validation Accuracy: 0.639400\n",
      "Epoch 26, CIFAR-10 Batch 1:  Loss:     0.0059 Validation Accuracy: 0.616000\n",
      "Epoch 27, CIFAR-10 Batch 1:  Loss:     0.0033 Validation Accuracy: 0.637200\n",
      "Epoch 28, CIFAR-10 Batch 1:  Loss:     0.0035 Validation Accuracy: 0.629200\n",
      "Epoch 29, CIFAR-10 Batch 1:  Loss:     0.0042 Validation Accuracy: 0.634600\n",
      "Epoch 30, CIFAR-10 Batch 1:  Loss:     0.0056 Validation Accuracy: 0.621200\n",
      "Epoch 31, CIFAR-10 Batch 1:  Loss:     0.0046 Validation Accuracy: 0.608800\n",
      "Epoch 32, CIFAR-10 Batch 1:  Loss:     0.0063 Validation Accuracy: 0.623000\n",
      "Epoch 33, CIFAR-10 Batch 1:  Loss:     0.0102 Validation Accuracy: 0.622400\n",
      "Epoch 34, CIFAR-10 Batch 1:  Loss:     0.0026 Validation Accuracy: 0.621400\n",
      "Epoch 35, CIFAR-10 Batch 1:  Loss:     0.0028 Validation Accuracy: 0.624000\n",
      "Epoch 36, CIFAR-10 Batch 1:  Loss:     0.0009 Validation Accuracy: 0.611600\n",
      "Epoch 37, CIFAR-10 Batch 1:  Loss:     0.0006 Validation Accuracy: 0.614800\n",
      "Epoch 38, CIFAR-10 Batch 1:  Loss:     0.0018 Validation Accuracy: 0.632600\n",
      "Epoch 39, CIFAR-10 Batch 1:  Loss:     0.0009 Validation Accuracy: 0.645600\n",
      "Epoch 40, CIFAR-10 Batch 1:  Loss:     0.0024 Validation Accuracy: 0.628800\n",
      "Epoch 41, CIFAR-10 Batch 1:  Loss:     0.0005 Validation Accuracy: 0.628200\n",
      "Epoch 42, CIFAR-10 Batch 1:  Loss:     0.0003 Validation Accuracy: 0.635200\n",
      "Epoch 43, CIFAR-10 Batch 1:  Loss:     0.0007 Validation Accuracy: 0.620400\n",
      "Epoch 44, CIFAR-10 Batch 1:  Loss:     0.0007 Validation Accuracy: 0.622200\n",
      "Epoch 45, CIFAR-10 Batch 1:  Loss:     0.0001 Validation Accuracy: 0.639200\n",
      "Epoch 46, CIFAR-10 Batch 1:  Loss:     0.0003 Validation Accuracy: 0.635000\n",
      "Epoch 47, CIFAR-10 Batch 1:  Loss:     0.0001 Validation Accuracy: 0.632800\n",
      "Epoch 48, CIFAR-10 Batch 1:  Loss:     0.0002 Validation Accuracy: 0.635200\n",
      "Epoch 49, CIFAR-10 Batch 1:  Loss:     0.0002 Validation Accuracy: 0.642000\n",
      "Epoch 50, CIFAR-10 Batch 1:  Loss:     0.0002 Validation Accuracy: 0.646200\n"
     ]
    }
   ],
   "source": [
    "\"\"\"\n",
    "DON'T MODIFY ANYTHING IN THIS CELL\n",
    "\"\"\"\n",
    "print('Checking the Training on a Single Batch...')\n",
    "with tf.Session() as sess:\n",
    "    # Initializing the variables\n",
    "    sess.run(tf.global_variables_initializer())\n",
    "    \n",
    "    # Training cycle\n",
    "    for epoch in range(epochs):\n",
    "        batch_i = 1\n",
    "        for batch_features, batch_labels in helper.load_preprocess_training_batch(batch_i, batch_size):\n",
    "            train_neural_network(sess, optimizer, keep_probability, batch_features, batch_labels)\n",
    "        print('Epoch {:>2}, CIFAR-10 Batch {}:  '.format(epoch + 1, batch_i), end='')\n",
    "        print_stats(sess, batch_features, batch_labels, cost, accuracy)"
   ]
  },
  {
   "cell_type": "markdown",
   "metadata": {},
   "source": [
    "### Fully Train the Model\n",
    "Now that you got a good accuracy with a single CIFAR-10 batch, try it with all five batches."
   ]
  },
  {
   "cell_type": "code",
   "execution_count": 18,
   "metadata": {},
   "outputs": [
    {
     "name": "stdout",
     "output_type": "stream",
     "text": [
      "Training...\n",
      "Epoch  1, CIFAR-10 Batch 1:  Loss:     2.1120 Validation Accuracy: 0.266800\n",
      "Epoch  1, CIFAR-10 Batch 2:  Loss:     1.8379 Validation Accuracy: 0.364400\n",
      "Epoch  1, CIFAR-10 Batch 3:  Loss:     1.4499 Validation Accuracy: 0.407400\n",
      "Epoch  1, CIFAR-10 Batch 4:  Loss:     1.4815 Validation Accuracy: 0.437000\n",
      "Epoch  1, CIFAR-10 Batch 5:  Loss:     1.3955 Validation Accuracy: 0.475000\n",
      "Epoch  2, CIFAR-10 Batch 1:  Loss:     1.4467 Validation Accuracy: 0.517000\n",
      "Epoch  2, CIFAR-10 Batch 2:  Loss:     1.2393 Validation Accuracy: 0.532200\n",
      "Epoch  2, CIFAR-10 Batch 3:  Loss:     0.9914 Validation Accuracy: 0.535600\n",
      "Epoch  2, CIFAR-10 Batch 4:  Loss:     1.0443 Validation Accuracy: 0.564200\n",
      "Epoch  2, CIFAR-10 Batch 5:  Loss:     1.0586 Validation Accuracy: 0.567000\n",
      "Epoch  3, CIFAR-10 Batch 1:  Loss:     1.0422 Validation Accuracy: 0.595600\n",
      "Epoch  3, CIFAR-10 Batch 2:  Loss:     0.9221 Validation Accuracy: 0.596600\n",
      "Epoch  3, CIFAR-10 Batch 3:  Loss:     0.6485 Validation Accuracy: 0.600400\n",
      "Epoch  3, CIFAR-10 Batch 4:  Loss:     0.7925 Validation Accuracy: 0.631200\n",
      "Epoch  3, CIFAR-10 Batch 5:  Loss:     0.7257 Validation Accuracy: 0.642200\n",
      "Epoch  4, CIFAR-10 Batch 1:  Loss:     0.7473 Validation Accuracy: 0.642000\n",
      "Epoch  4, CIFAR-10 Batch 2:  Loss:     0.6520 Validation Accuracy: 0.638400\n",
      "Epoch  4, CIFAR-10 Batch 3:  Loss:     0.5579 Validation Accuracy: 0.662400\n",
      "Epoch  4, CIFAR-10 Batch 4:  Loss:     0.5974 Validation Accuracy: 0.668400\n",
      "Epoch  4, CIFAR-10 Batch 5:  Loss:     0.5287 Validation Accuracy: 0.677200\n",
      "Epoch  5, CIFAR-10 Batch 1:  Loss:     0.5990 Validation Accuracy: 0.666000\n",
      "Epoch  5, CIFAR-10 Batch 2:  Loss:     0.4453 Validation Accuracy: 0.687600\n",
      "Epoch  5, CIFAR-10 Batch 3:  Loss:     0.3769 Validation Accuracy: 0.701800\n",
      "Epoch  5, CIFAR-10 Batch 4:  Loss:     0.4511 Validation Accuracy: 0.701800\n",
      "Epoch  5, CIFAR-10 Batch 5:  Loss:     0.3767 Validation Accuracy: 0.699400\n",
      "Epoch  6, CIFAR-10 Batch 1:  Loss:     0.4222 Validation Accuracy: 0.707800\n",
      "Epoch  6, CIFAR-10 Batch 2:  Loss:     0.3056 Validation Accuracy: 0.720600\n",
      "Epoch  6, CIFAR-10 Batch 3:  Loss:     0.2692 Validation Accuracy: 0.707400\n",
      "Epoch  6, CIFAR-10 Batch 4:  Loss:     0.3047 Validation Accuracy: 0.710400\n",
      "Epoch  6, CIFAR-10 Batch 5:  Loss:     0.2570 Validation Accuracy: 0.708600\n",
      "Epoch  7, CIFAR-10 Batch 1:  Loss:     0.3285 Validation Accuracy: 0.706800\n",
      "Epoch  7, CIFAR-10 Batch 2:  Loss:     0.2316 Validation Accuracy: 0.728400\n",
      "Epoch  7, CIFAR-10 Batch 3:  Loss:     0.1998 Validation Accuracy: 0.705200\n",
      "Epoch  7, CIFAR-10 Batch 4:  Loss:     0.2270 Validation Accuracy: 0.734800\n",
      "Epoch  7, CIFAR-10 Batch 5:  Loss:     0.1925 Validation Accuracy: 0.725200\n",
      "Epoch  8, CIFAR-10 Batch 1:  Loss:     0.2055 Validation Accuracy: 0.726000\n",
      "Epoch  8, CIFAR-10 Batch 2:  Loss:     0.1766 Validation Accuracy: 0.727800\n",
      "Epoch  8, CIFAR-10 Batch 3:  Loss:     0.1660 Validation Accuracy: 0.701400\n",
      "Epoch  8, CIFAR-10 Batch 4:  Loss:     0.1443 Validation Accuracy: 0.734600\n",
      "Epoch  8, CIFAR-10 Batch 5:  Loss:     0.1625 Validation Accuracy: 0.691200\n",
      "Epoch  9, CIFAR-10 Batch 1:  Loss:     0.2049 Validation Accuracy: 0.744600\n",
      "Epoch  9, CIFAR-10 Batch 2:  Loss:     0.1237 Validation Accuracy: 0.734400\n",
      "Epoch  9, CIFAR-10 Batch 3:  Loss:     0.1070 Validation Accuracy: 0.705800\n",
      "Epoch  9, CIFAR-10 Batch 4:  Loss:     0.1012 Validation Accuracy: 0.735000\n",
      "Epoch  9, CIFAR-10 Batch 5:  Loss:     0.0887 Validation Accuracy: 0.746600\n",
      "Epoch 10, CIFAR-10 Batch 1:  Loss:     0.1266 Validation Accuracy: 0.734600\n",
      "Epoch 10, CIFAR-10 Batch 2:  Loss:     0.1068 Validation Accuracy: 0.740600\n",
      "Epoch 10, CIFAR-10 Batch 3:  Loss:     0.0887 Validation Accuracy: 0.726800\n",
      "Epoch 10, CIFAR-10 Batch 4:  Loss:     0.0884 Validation Accuracy: 0.743200\n",
      "Epoch 10, CIFAR-10 Batch 5:  Loss:     0.0845 Validation Accuracy: 0.743200\n",
      "Epoch 11, CIFAR-10 Batch 1:  Loss:     0.0781 Validation Accuracy: 0.745400\n",
      "Epoch 11, CIFAR-10 Batch 2:  Loss:     0.0769 Validation Accuracy: 0.741600\n",
      "Epoch 11, CIFAR-10 Batch 3:  Loss:     0.0473 Validation Accuracy: 0.719600\n",
      "Epoch 11, CIFAR-10 Batch 4:  Loss:     0.0944 Validation Accuracy: 0.715000\n",
      "Epoch 11, CIFAR-10 Batch 5:  Loss:     0.0576 Validation Accuracy: 0.733200\n",
      "Epoch 12, CIFAR-10 Batch 1:  Loss:     0.0656 Validation Accuracy: 0.734000\n",
      "Epoch 12, CIFAR-10 Batch 2:  Loss:     0.0543 Validation Accuracy: 0.741800\n",
      "Epoch 12, CIFAR-10 Batch 3:  Loss:     0.0600 Validation Accuracy: 0.733800\n",
      "Epoch 12, CIFAR-10 Batch 4:  Loss:     0.0753 Validation Accuracy: 0.734400\n",
      "Epoch 12, CIFAR-10 Batch 5:  Loss:     0.0273 Validation Accuracy: 0.762200\n",
      "Epoch 13, CIFAR-10 Batch 1:  Loss:     0.0697 Validation Accuracy: 0.723400\n",
      "Epoch 13, CIFAR-10 Batch 2:  Loss:     0.0397 Validation Accuracy: 0.727200\n",
      "Epoch 13, CIFAR-10 Batch 3:  Loss:     0.0311 Validation Accuracy: 0.748400\n",
      "Epoch 13, CIFAR-10 Batch 4:  Loss:     0.0464 Validation Accuracy: 0.739600\n",
      "Epoch 13, CIFAR-10 Batch 5:  Loss:     0.0192 Validation Accuracy: 0.751800\n",
      "Epoch 14, CIFAR-10 Batch 1:  Loss:     0.0454 Validation Accuracy: 0.728800\n",
      "Epoch 14, CIFAR-10 Batch 2:  Loss:     0.0361 Validation Accuracy: 0.726600\n",
      "Epoch 14, CIFAR-10 Batch 3:  Loss:     0.0253 Validation Accuracy: 0.753600\n",
      "Epoch 14, CIFAR-10 Batch 4:  Loss:     0.0528 Validation Accuracy: 0.727600\n",
      "Epoch 14, CIFAR-10 Batch 5:  Loss:     0.0259 Validation Accuracy: 0.747000\n",
      "Epoch 15, CIFAR-10 Batch 1:  Loss:     0.0355 Validation Accuracy: 0.740600\n",
      "Epoch 15, CIFAR-10 Batch 2:  Loss:     0.0296 Validation Accuracy: 0.719400\n",
      "Epoch 15, CIFAR-10 Batch 3:  Loss:     0.0203 Validation Accuracy: 0.745800\n",
      "Epoch 15, CIFAR-10 Batch 4:  Loss:     0.0227 Validation Accuracy: 0.736400\n",
      "Epoch 15, CIFAR-10 Batch 5:  Loss:     0.0158 Validation Accuracy: 0.734800\n",
      "Epoch 16, CIFAR-10 Batch 1:  Loss:     0.0307 Validation Accuracy: 0.736600\n",
      "Epoch 16, CIFAR-10 Batch 2:  Loss:     0.0249 Validation Accuracy: 0.745000\n",
      "Epoch 16, CIFAR-10 Batch 3:  Loss:     0.0167 Validation Accuracy: 0.740800\n",
      "Epoch 16, CIFAR-10 Batch 4:  Loss:     0.0225 Validation Accuracy: 0.730000\n",
      "Epoch 16, CIFAR-10 Batch 5:  Loss:     0.0134 Validation Accuracy: 0.735200\n",
      "Epoch 17, CIFAR-10 Batch 1:  Loss:     0.0173 Validation Accuracy: 0.748000\n",
      "Epoch 17, CIFAR-10 Batch 2:  Loss:     0.0177 Validation Accuracy: 0.746400\n",
      "Epoch 17, CIFAR-10 Batch 3:  Loss:     0.0087 Validation Accuracy: 0.756800\n",
      "Epoch 17, CIFAR-10 Batch 4:  Loss:     0.0237 Validation Accuracy: 0.743200\n",
      "Epoch 17, CIFAR-10 Batch 5:  Loss:     0.0204 Validation Accuracy: 0.745800\n",
      "Epoch 18, CIFAR-10 Batch 1:  Loss:     0.0135 Validation Accuracy: 0.758600\n",
      "Epoch 18, CIFAR-10 Batch 2:  Loss:     0.0207 Validation Accuracy: 0.750200\n",
      "Epoch 18, CIFAR-10 Batch 3:  Loss:     0.0090 Validation Accuracy: 0.747800\n",
      "Epoch 18, CIFAR-10 Batch 4:  Loss:     0.0092 Validation Accuracy: 0.736800\n",
      "Epoch 18, CIFAR-10 Batch 5:  Loss:     0.0045 Validation Accuracy: 0.739600\n",
      "Epoch 19, CIFAR-10 Batch 1:  Loss:     0.0162 Validation Accuracy: 0.748200\n",
      "Epoch 19, CIFAR-10 Batch 2:  Loss:     0.0134 Validation Accuracy: 0.747200\n",
      "Epoch 19, CIFAR-10 Batch 3:  Loss:     0.0035 Validation Accuracy: 0.756600\n",
      "Epoch 19, CIFAR-10 Batch 4:  Loss:     0.0078 Validation Accuracy: 0.746600\n",
      "Epoch 19, CIFAR-10 Batch 5:  Loss:     0.0078 Validation Accuracy: 0.751000\n",
      "Epoch 20, CIFAR-10 Batch 1:  Loss:     0.0176 Validation Accuracy: 0.750600\n",
      "Epoch 20, CIFAR-10 Batch 2:  Loss:     0.0150 Validation Accuracy: 0.741200\n",
      "Epoch 20, CIFAR-10 Batch 3:  Loss:     0.0041 Validation Accuracy: 0.736600\n",
      "Epoch 20, CIFAR-10 Batch 4:  Loss:     0.0060 Validation Accuracy: 0.742600\n",
      "Epoch 20, CIFAR-10 Batch 5:  Loss:     0.0021 Validation Accuracy: 0.755600\n",
      "Epoch 21, CIFAR-10 Batch 1:  Loss:     0.0095 Validation Accuracy: 0.749400\n",
      "Epoch 21, CIFAR-10 Batch 2:  Loss:     0.0068 Validation Accuracy: 0.743600\n",
      "Epoch 21, CIFAR-10 Batch 3:  Loss:     0.0025 Validation Accuracy: 0.756200\n",
      "Epoch 21, CIFAR-10 Batch 4:  Loss:     0.0126 Validation Accuracy: 0.744600\n",
      "Epoch 21, CIFAR-10 Batch 5:  Loss:     0.0110 Validation Accuracy: 0.746600\n",
      "Epoch 22, CIFAR-10 Batch 1:  Loss:     0.0065 Validation Accuracy: 0.743600\n",
      "Epoch 22, CIFAR-10 Batch 2:  Loss:     0.0086 Validation Accuracy: 0.735200\n",
      "Epoch 22, CIFAR-10 Batch 3:  Loss:     0.0012 Validation Accuracy: 0.738400\n"
     ]
    },
    {
     "name": "stdout",
     "output_type": "stream",
     "text": [
      "Epoch 22, CIFAR-10 Batch 4:  Loss:     0.0039 Validation Accuracy: 0.742800\n",
      "Epoch 22, CIFAR-10 Batch 5:  Loss:     0.0053 Validation Accuracy: 0.749600\n",
      "Epoch 23, CIFAR-10 Batch 1:  Loss:     0.0084 Validation Accuracy: 0.736600\n",
      "Epoch 23, CIFAR-10 Batch 2:  Loss:     0.0021 Validation Accuracy: 0.752800\n",
      "Epoch 23, CIFAR-10 Batch 3:  Loss:     0.0010 Validation Accuracy: 0.750600\n",
      "Epoch 23, CIFAR-10 Batch 4:  Loss:     0.0021 Validation Accuracy: 0.750200\n",
      "Epoch 23, CIFAR-10 Batch 5:  Loss:     0.0016 Validation Accuracy: 0.751400\n",
      "Epoch 24, CIFAR-10 Batch 1:  Loss:     0.0037 Validation Accuracy: 0.743000\n",
      "Epoch 24, CIFAR-10 Batch 2:  Loss:     0.0037 Validation Accuracy: 0.738800\n",
      "Epoch 24, CIFAR-10 Batch 3:  Loss:     0.0013 Validation Accuracy: 0.746200\n",
      "Epoch 24, CIFAR-10 Batch 4:  Loss:     0.0058 Validation Accuracy: 0.752200\n",
      "Epoch 24, CIFAR-10 Batch 5:  Loss:     0.0016 Validation Accuracy: 0.745800\n",
      "Epoch 25, CIFAR-10 Batch 1:  Loss:     0.0036 Validation Accuracy: 0.728600\n",
      "Epoch 25, CIFAR-10 Batch 2:  Loss:     0.0185 Validation Accuracy: 0.751600\n",
      "Epoch 25, CIFAR-10 Batch 3:  Loss:     0.0012 Validation Accuracy: 0.741400\n",
      "Epoch 25, CIFAR-10 Batch 4:  Loss:     0.0063 Validation Accuracy: 0.746200\n",
      "Epoch 25, CIFAR-10 Batch 5:  Loss:     0.0004 Validation Accuracy: 0.743000\n",
      "Epoch 26, CIFAR-10 Batch 1:  Loss:     0.0013 Validation Accuracy: 0.745800\n",
      "Epoch 26, CIFAR-10 Batch 2:  Loss:     0.0015 Validation Accuracy: 0.748800\n",
      "Epoch 26, CIFAR-10 Batch 3:  Loss:     0.0029 Validation Accuracy: 0.751600\n",
      "Epoch 26, CIFAR-10 Batch 4:  Loss:     0.0009 Validation Accuracy: 0.752800\n",
      "Epoch 26, CIFAR-10 Batch 5:  Loss:     0.0006 Validation Accuracy: 0.753800\n",
      "Epoch 27, CIFAR-10 Batch 1:  Loss:     0.0023 Validation Accuracy: 0.737800\n",
      "Epoch 27, CIFAR-10 Batch 2:  Loss:     0.0713 Validation Accuracy: 0.741800\n",
      "Epoch 27, CIFAR-10 Batch 3:  Loss:     0.0013 Validation Accuracy: 0.755400\n",
      "Epoch 27, CIFAR-10 Batch 4:  Loss:     0.0006 Validation Accuracy: 0.755000\n",
      "Epoch 27, CIFAR-10 Batch 5:  Loss:     0.0063 Validation Accuracy: 0.751600\n",
      "Epoch 28, CIFAR-10 Batch 1:  Loss:     0.0014 Validation Accuracy: 0.757600\n",
      "Epoch 28, CIFAR-10 Batch 2:  Loss:     0.0071 Validation Accuracy: 0.748800\n",
      "Epoch 28, CIFAR-10 Batch 3:  Loss:     0.0067 Validation Accuracy: 0.760800\n",
      "Epoch 28, CIFAR-10 Batch 4:  Loss:     0.0028 Validation Accuracy: 0.740800\n",
      "Epoch 28, CIFAR-10 Batch 5:  Loss:     0.0004 Validation Accuracy: 0.758800\n",
      "Epoch 29, CIFAR-10 Batch 1:  Loss:     0.0016 Validation Accuracy: 0.755000\n",
      "Epoch 29, CIFAR-10 Batch 2:  Loss:     0.0015 Validation Accuracy: 0.753800\n",
      "Epoch 29, CIFAR-10 Batch 3:  Loss:     0.0012 Validation Accuracy: 0.754200\n",
      "Epoch 29, CIFAR-10 Batch 4:  Loss:     0.0006 Validation Accuracy: 0.749000\n",
      "Epoch 29, CIFAR-10 Batch 5:  Loss:     0.0003 Validation Accuracy: 0.743000\n",
      "Epoch 30, CIFAR-10 Batch 1:  Loss:     0.0044 Validation Accuracy: 0.743400\n",
      "Epoch 30, CIFAR-10 Batch 2:  Loss:     0.0025 Validation Accuracy: 0.740000\n",
      "Epoch 30, CIFAR-10 Batch 3:  Loss:     0.0005 Validation Accuracy: 0.747000\n",
      "Epoch 30, CIFAR-10 Batch 4:  Loss:     0.0004 Validation Accuracy: 0.757000\n",
      "Epoch 30, CIFAR-10 Batch 5:  Loss:     0.0002 Validation Accuracy: 0.757800\n",
      "Epoch 31, CIFAR-10 Batch 1:  Loss:     0.0018 Validation Accuracy: 0.756000\n",
      "Epoch 31, CIFAR-10 Batch 2:  Loss:     0.0005 Validation Accuracy: 0.752800\n",
      "Epoch 31, CIFAR-10 Batch 3:  Loss:     0.0018 Validation Accuracy: 0.751200\n",
      "Epoch 31, CIFAR-10 Batch 4:  Loss:     0.0006 Validation Accuracy: 0.746400\n",
      "Epoch 31, CIFAR-10 Batch 5:  Loss:     0.0002 Validation Accuracy: 0.761000\n",
      "Epoch 32, CIFAR-10 Batch 1:  Loss:     0.0042 Validation Accuracy: 0.757000\n",
      "Epoch 32, CIFAR-10 Batch 2:  Loss:     0.0005 Validation Accuracy: 0.761400\n",
      "Epoch 32, CIFAR-10 Batch 3:  Loss:     0.0008 Validation Accuracy: 0.750000\n",
      "Epoch 32, CIFAR-10 Batch 4:  Loss:     0.0087 Validation Accuracy: 0.738800\n",
      "Epoch 32, CIFAR-10 Batch 5:  Loss:     0.0006 Validation Accuracy: 0.755200\n",
      "Epoch 33, CIFAR-10 Batch 1:  Loss:     0.0013 Validation Accuracy: 0.750000\n",
      "Epoch 33, CIFAR-10 Batch 2:  Loss:     0.0003 Validation Accuracy: 0.755800\n",
      "Epoch 33, CIFAR-10 Batch 3:  Loss:     0.0002 Validation Accuracy: 0.761800\n",
      "Epoch 33, CIFAR-10 Batch 4:  Loss:     0.0002 Validation Accuracy: 0.750600\n",
      "Epoch 33, CIFAR-10 Batch 5:  Loss:     0.0005 Validation Accuracy: 0.751800\n",
      "Epoch 34, CIFAR-10 Batch 1:  Loss:     0.0018 Validation Accuracy: 0.750200\n",
      "Epoch 34, CIFAR-10 Batch 2:  Loss:     0.0026 Validation Accuracy: 0.749000\n",
      "Epoch 34, CIFAR-10 Batch 3:  Loss:     0.0004 Validation Accuracy: 0.750400\n",
      "Epoch 34, CIFAR-10 Batch 4:  Loss:     0.0003 Validation Accuracy: 0.752200\n",
      "Epoch 34, CIFAR-10 Batch 5:  Loss:     0.0002 Validation Accuracy: 0.757600\n",
      "Epoch 35, CIFAR-10 Batch 1:  Loss:     0.0010 Validation Accuracy: 0.751600\n",
      "Epoch 35, CIFAR-10 Batch 2:  Loss:     0.0014 Validation Accuracy: 0.743600\n",
      "Epoch 35, CIFAR-10 Batch 3:  Loss:     0.0002 Validation Accuracy: 0.743800\n",
      "Epoch 35, CIFAR-10 Batch 4:  Loss:     0.0024 Validation Accuracy: 0.752000\n",
      "Epoch 35, CIFAR-10 Batch 5:  Loss:     0.0001 Validation Accuracy: 0.756600\n",
      "Epoch 36, CIFAR-10 Batch 1:  Loss:     0.0011 Validation Accuracy: 0.740200\n",
      "Epoch 36, CIFAR-10 Batch 2:  Loss:     0.0003 Validation Accuracy: 0.753200\n",
      "Epoch 36, CIFAR-10 Batch 3:  Loss:     0.0003 Validation Accuracy: 0.747600\n",
      "Epoch 36, CIFAR-10 Batch 4:  Loss:     0.0011 Validation Accuracy: 0.749800\n",
      "Epoch 36, CIFAR-10 Batch 5:  Loss:     0.0007 Validation Accuracy: 0.747600\n",
      "Epoch 37, CIFAR-10 Batch 1:  Loss:     0.0024 Validation Accuracy: 0.753800\n",
      "Epoch 37, CIFAR-10 Batch 2:  Loss:     0.0007 Validation Accuracy: 0.752600\n",
      "Epoch 37, CIFAR-10 Batch 3:  Loss:     0.0004 Validation Accuracy: 0.753800\n",
      "Epoch 37, CIFAR-10 Batch 4:  Loss:     0.0016 Validation Accuracy: 0.757200\n",
      "Epoch 37, CIFAR-10 Batch 5:  Loss:     0.0016 Validation Accuracy: 0.753200\n",
      "Epoch 38, CIFAR-10 Batch 1:  Loss:     0.0004 Validation Accuracy: 0.746800\n",
      "Epoch 38, CIFAR-10 Batch 2:  Loss:     0.0008 Validation Accuracy: 0.744400\n",
      "Epoch 38, CIFAR-10 Batch 3:  Loss:     0.0010 Validation Accuracy: 0.752800\n",
      "Epoch 38, CIFAR-10 Batch 4:  Loss:     0.0003 Validation Accuracy: 0.743600\n",
      "Epoch 38, CIFAR-10 Batch 5:  Loss:     0.0004 Validation Accuracy: 0.759400\n",
      "Epoch 39, CIFAR-10 Batch 1:  Loss:     0.0004 Validation Accuracy: 0.747000\n",
      "Epoch 39, CIFAR-10 Batch 2:  Loss:     0.0002 Validation Accuracy: 0.754000\n",
      "Epoch 39, CIFAR-10 Batch 3:  Loss:     0.0000 Validation Accuracy: 0.759600\n",
      "Epoch 39, CIFAR-10 Batch 4:  Loss:     0.0003 Validation Accuracy: 0.745600\n",
      "Epoch 39, CIFAR-10 Batch 5:  Loss:     0.0002 Validation Accuracy: 0.761800\n",
      "Epoch 40, CIFAR-10 Batch 1:  Loss:     0.0001 Validation Accuracy: 0.753600\n",
      "Epoch 40, CIFAR-10 Batch 2:  Loss:     0.0009 Validation Accuracy: 0.753800\n",
      "Epoch 40, CIFAR-10 Batch 3:  Loss:     0.0000 Validation Accuracy: 0.745800\n",
      "Epoch 40, CIFAR-10 Batch 4:  Loss:     0.0004 Validation Accuracy: 0.748800\n",
      "Epoch 40, CIFAR-10 Batch 5:  Loss:     0.0002 Validation Accuracy: 0.754400\n",
      "Epoch 41, CIFAR-10 Batch 1:  Loss:     0.0002 Validation Accuracy: 0.754200\n",
      "Epoch 41, CIFAR-10 Batch 2:  Loss:     0.0010 Validation Accuracy: 0.761600\n",
      "Epoch 41, CIFAR-10 Batch 3:  Loss:     0.0001 Validation Accuracy: 0.759400\n",
      "Epoch 41, CIFAR-10 Batch 4:  Loss:     0.0008 Validation Accuracy: 0.756200\n",
      "Epoch 41, CIFAR-10 Batch 5:  Loss:     0.0002 Validation Accuracy: 0.756800\n",
      "Epoch 42, CIFAR-10 Batch 1:  Loss:     0.0009 Validation Accuracy: 0.753600\n",
      "Epoch 42, CIFAR-10 Batch 2:  Loss:     0.0002 Validation Accuracy: 0.754800\n",
      "Epoch 42, CIFAR-10 Batch 3:  Loss:     0.0001 Validation Accuracy: 0.758000\n",
      "Epoch 42, CIFAR-10 Batch 4:  Loss:     0.0003 Validation Accuracy: 0.751000\n",
      "Epoch 42, CIFAR-10 Batch 5:  Loss:     0.0003 Validation Accuracy: 0.756800\n",
      "Epoch 43, CIFAR-10 Batch 1:  Loss:     0.0002 Validation Accuracy: 0.754400\n",
      "Epoch 43, CIFAR-10 Batch 2:  Loss:     0.0001 Validation Accuracy: 0.756200\n",
      "Epoch 43, CIFAR-10 Batch 3:  Loss:     0.0011 Validation Accuracy: 0.755200\n",
      "Epoch 43, CIFAR-10 Batch 4:  Loss:     0.0121 Validation Accuracy: 0.735800\n",
      "Epoch 43, CIFAR-10 Batch 5:  Loss:     0.0004 Validation Accuracy: 0.753000\n",
      "Epoch 44, CIFAR-10 Batch 1:  Loss:     0.0002 Validation Accuracy: 0.763000\n"
     ]
    },
    {
     "name": "stdout",
     "output_type": "stream",
     "text": [
      "Epoch 44, CIFAR-10 Batch 2:  Loss:     0.0006 Validation Accuracy: 0.748200\n",
      "Epoch 44, CIFAR-10 Batch 3:  Loss:     0.0000 Validation Accuracy: 0.760800\n",
      "Epoch 44, CIFAR-10 Batch 4:  Loss:     0.0008 Validation Accuracy: 0.756600\n",
      "Epoch 44, CIFAR-10 Batch 5:  Loss:     0.0002 Validation Accuracy: 0.762800\n",
      "Epoch 45, CIFAR-10 Batch 1:  Loss:     0.0001 Validation Accuracy: 0.764400\n",
      "Epoch 45, CIFAR-10 Batch 2:  Loss:     0.0007 Validation Accuracy: 0.756400\n",
      "Epoch 45, CIFAR-10 Batch 3:  Loss:     0.0001 Validation Accuracy: 0.760600\n",
      "Epoch 45, CIFAR-10 Batch 4:  Loss:     0.0001 Validation Accuracy: 0.751000\n",
      "Epoch 45, CIFAR-10 Batch 5:  Loss:     0.0166 Validation Accuracy: 0.748400\n",
      "Epoch 46, CIFAR-10 Batch 1:  Loss:     0.0003 Validation Accuracy: 0.761800\n",
      "Epoch 46, CIFAR-10 Batch 2:  Loss:     0.0002 Validation Accuracy: 0.756400\n",
      "Epoch 46, CIFAR-10 Batch 3:  Loss:     0.0000 Validation Accuracy: 0.752200\n",
      "Epoch 46, CIFAR-10 Batch 4:  Loss:     0.0001 Validation Accuracy: 0.752200\n",
      "Epoch 46, CIFAR-10 Batch 5:  Loss:     0.0004 Validation Accuracy: 0.757200\n",
      "Epoch 47, CIFAR-10 Batch 1:  Loss:     0.0002 Validation Accuracy: 0.755200\n",
      "Epoch 47, CIFAR-10 Batch 2:  Loss:     0.0015 Validation Accuracy: 0.762200\n",
      "Epoch 47, CIFAR-10 Batch 3:  Loss:     0.0001 Validation Accuracy: 0.746200\n",
      "Epoch 47, CIFAR-10 Batch 4:  Loss:     0.0010 Validation Accuracy: 0.755800\n",
      "Epoch 47, CIFAR-10 Batch 5:  Loss:     0.0003 Validation Accuracy: 0.752400\n",
      "Epoch 48, CIFAR-10 Batch 1:  Loss:     0.0001 Validation Accuracy: 0.757600\n",
      "Epoch 48, CIFAR-10 Batch 2:  Loss:     0.0000 Validation Accuracy: 0.762400\n",
      "Epoch 48, CIFAR-10 Batch 3:  Loss:     0.0000 Validation Accuracy: 0.760000\n",
      "Epoch 48, CIFAR-10 Batch 4:  Loss:     0.0003 Validation Accuracy: 0.747800\n",
      "Epoch 48, CIFAR-10 Batch 5:  Loss:     0.0007 Validation Accuracy: 0.753400\n",
      "Epoch 49, CIFAR-10 Batch 1:  Loss:     0.0002 Validation Accuracy: 0.759200\n",
      "Epoch 49, CIFAR-10 Batch 2:  Loss:     0.0002 Validation Accuracy: 0.761000\n",
      "Epoch 49, CIFAR-10 Batch 3:  Loss:     0.0001 Validation Accuracy: 0.759400\n",
      "Epoch 49, CIFAR-10 Batch 4:  Loss:     0.0002 Validation Accuracy: 0.762000\n",
      "Epoch 49, CIFAR-10 Batch 5:  Loss:     0.0029 Validation Accuracy: 0.756000\n",
      "Epoch 50, CIFAR-10 Batch 1:  Loss:     0.0002 Validation Accuracy: 0.761000\n",
      "Epoch 50, CIFAR-10 Batch 2:  Loss:     0.0003 Validation Accuracy: 0.765200\n",
      "Epoch 50, CIFAR-10 Batch 3:  Loss:     0.0001 Validation Accuracy: 0.759200\n",
      "Epoch 50, CIFAR-10 Batch 4:  Loss:     0.0030 Validation Accuracy: 0.757800\n",
      "Epoch 50, CIFAR-10 Batch 5:  Loss:     0.0000 Validation Accuracy: 0.761200\n"
     ]
    }
   ],
   "source": [
    "\"\"\"\n",
    "DON'T MODIFY ANYTHING IN THIS CELL\n",
    "\"\"\"\n",
    "save_model_path = './image_classification'\n",
    "\n",
    "print('Training...')\n",
    "with tf.Session() as sess:\n",
    "    # Initializing the variables\n",
    "    sess.run(tf.global_variables_initializer())\n",
    "    \n",
    "    # Training cycle\n",
    "    for epoch in range(epochs):\n",
    "        # Loop over all batches\n",
    "        n_batches = 5\n",
    "        for batch_i in range(1, n_batches + 1):\n",
    "            for batch_features, batch_labels in helper.load_preprocess_training_batch(batch_i, batch_size):\n",
    "                train_neural_network(sess, optimizer, keep_probability, batch_features, batch_labels)\n",
    "            print('Epoch {:>2}, CIFAR-10 Batch {}:  '.format(epoch + 1, batch_i), end='')\n",
    "            print_stats(sess, batch_features, batch_labels, cost, accuracy)\n",
    "            \n",
    "    # Save Model\n",
    "    saver = tf.train.Saver()\n",
    "    save_path = saver.save(sess, save_model_path)"
   ]
  },
  {
   "cell_type": "markdown",
   "metadata": {},
   "source": [
    "# Checkpoint\n",
    "The model has been saved to disk.\n",
    "## Test Model\n",
    "Test your model against the test dataset.  This will be your final accuracy. You should have an accuracy greater than 50%. If you don't, keep tweaking the model architecture and parameters."
   ]
  },
  {
   "cell_type": "code",
   "execution_count": 19,
   "metadata": {},
   "outputs": [
    {
     "name": "stdout",
     "output_type": "stream",
     "text": [
      "INFO:tensorflow:Restoring parameters from ./image_classification\n",
      "Testing Accuracy: 0.75029296875\n",
      "\n"
     ]
    },
    {
     "data": {
      "image/png": "[encoded data removed]",
      "text/plain": [
       "<matplotlib.figure.Figure at 0x7fdcf62fde80>"
      ]
     },
     "metadata": {
      "image/png": {
       "height": 319,
       "width": 349
      }
     },
     "output_type": "display_data"
    }
   ],
   "source": [
    "\"\"\"\n",
    "DON'T MODIFY ANYTHING IN THIS CELL\n",
    "\"\"\"\n",
    "%matplotlib inline\n",
    "%config InlineBackend.figure_format = 'retina'\n",
    "\n",
    "import tensorflow as tf\n",
    "import pickle\n",
    "import helper\n",
    "import random\n",
    "\n",
    "# Set batch size if not already set\n",
    "try:\n",
    "    if batch_size:\n",
    "        pass\n",
    "except NameError:\n",
    "    batch_size = 64\n",
    "\n",
    "save_model_path = './image_classification'\n",
    "n_samples = 4\n",
    "top_n_predictions = 3\n",
    "\n",
    "def test_model():\n",
    "    \"\"\"\n",
    "    Test the saved model against the test dataset\n",
    "    \"\"\"\n",
    "\n",
    "    test_features, test_labels = pickle.load(open('preprocess_training.p', mode='rb'))\n",
    "    loaded_graph = tf.Graph()\n",
    "\n",
    "    with tf.Session(graph=loaded_graph) as sess:\n",
    "        # Load model\n",
    "        loader = tf.train.import_meta_graph(save_model_path + '.meta')\n",
    "        loader.restore(sess, save_model_path)\n",
    "\n",
    "        # Get Tensors from loaded model\n",
    "        loaded_x = loaded_graph.get_tensor_by_name('x:0')\n",
    "        loaded_y = loaded_graph.get_tensor_by_name('y:0')\n",
    "        loaded_keep_prob = loaded_graph.get_tensor_by_name('keep_prob:0')\n",
    "        loaded_logits = loaded_graph.get_tensor_by_name('logits:0')\n",
    "        loaded_acc = loaded_graph.get_tensor_by_name('accuracy:0')\n",
    "        \n",
    "        # Get accuracy in batches for memory limitations\n",
    "        test_batch_acc_total = 0\n",
    "        test_batch_count = 0\n",
    "        \n",
    "        for train_feature_batch, train_label_batch in helper.batch_features_labels(test_features, test_labels, batch_size):\n",
    "            test_batch_acc_total += sess.run(\n",
    "                loaded_acc,\n",
    "                feed_dict={loaded_x: train_feature_batch, loaded_y: train_label_batch, loaded_keep_prob: 1.0})\n",
    "            test_batch_count += 1\n",
    "\n",
    "        print('Testing Accuracy: {}\\n'.format(test_batch_acc_total/test_batch_count))\n",
    "\n",
    "        # Print Random Samples\n",
    "        random_test_features, random_test_labels = tuple(zip(*random.sample(list(zip(test_features, test_labels)), n_samples)))\n",
    "        random_test_predictions = sess.run(\n",
    "            tf.nn.top_k(tf.nn.softmax(loaded_logits), top_n_predictions),\n",
    "            feed_dict={loaded_x: random_test_features, loaded_y: random_test_labels, loaded_keep_prob: 1.0})\n",
    "        helper.display_image_predictions(random_test_features, random_test_labels, random_test_predictions)\n",
    "\n",
    "\n",
    "test_model()"
   ]
  },
  {
   "cell_type": "markdown",
   "metadata": {},
   "source": [
    "## Why 50-70% Accuracy?\n",
    "You might be wondering why you can't get an accuracy any higher. First things first, 50% isn't bad for a simple CNN.  Pure guessing would get you 10% accuracy. However, you might notice people are getting scores [well above 70%](http://rodrigob.github.io/are_we_there_yet/build/classification_datasets_results.html#43494641522d3130).  That's because we haven't taught you all there is to know about neural networks. We still need to cover a few more techniques.\n",
    "## Submitting This Project\n",
    "When submitting this project, make sure to run all the cells before saving the notebook.  Save the notebook file as \"dlnd_image_classification.ipynb\" and save it as a HTML file under \"File\" -> \"Download as\".  Include the \"helper.py\" and \"problem_unittests.py\" files in your submission."
   ]
  }
 ],
 "metadata": {
  "kernelspec": {
   "display_name": "Python 3",
   "language": "python",
   "name": "python3"
  },
  "language_info": {
   "codemirror_mode": {
    "name": "ipython",
    "version": 3
   },
   "file_extension": ".py",
   "mimetype": "text/x-python",
   "name": "python",
   "nbconvert_exporter": "python",
   "pygments_lexer": "ipython3",
   "version": "3.5.3"
  }
 },
 "nbformat": 4,
 "nbformat_minor": 1
}
